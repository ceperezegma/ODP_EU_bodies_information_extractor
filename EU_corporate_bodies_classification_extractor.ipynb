{
 "cells": [
  {
   "cell_type": "markdown",
   "metadata": {},
   "source": [
    "# Extraction of EU corporate bodies classification from the EU vocabularies"
   ]
  },
  {
   "cell_type": "markdown",
   "metadata": {},
   "source": [
    "This notebook extracts the EU catogories of the EU organisations.The data source is the XML file avialble in the [corporte boy classification page](https://op.europa.eu/en/web/eu-vocabularies/dataset/-/resource?uri=http://publications.europa.eu/resource/dataset/corporate-body-classification).\n",
    "\n",
    "ASSUMPTIONS:\n",
    "- The XML file **corporate-body-classification.xml** must be available in the same directory as this notebook\n"
   ]
  },
  {
   "cell_type": "code",
   "execution_count": 1,
   "metadata": {},
   "outputs": [],
   "source": [
    "import xml.etree.ElementTree as ET\n",
    "import csv"
   ]
  },
  {
   "cell_type": "markdown",
   "metadata": {},
   "source": [
    "## 1. Open the XML file: corporate-body-classification.xml"
   ]
  },
  {
   "cell_type": "code",
   "execution_count": 2,
   "metadata": {},
   "outputs": [],
   "source": [
    "def open_file(file_name): \n",
    "    \"\"\"\n",
    "    open and parse the xml file given by file_name and return the parsed file and the root.\n",
    "    \n",
    "    \"\"\"\n",
    "    tree = ET.parse(file_name)\n",
    "    root = tree.getroot()\n",
    "    return tree, root"
   ]
  },
  {
   "cell_type": "markdown",
   "metadata": {},
   "source": [
    "## 2. Extract records"
   ]
  },
  {
   "cell_type": "code",
   "execution_count": 3,
   "metadata": {},
   "outputs": [],
   "source": [
    "def check_deprecated(deprecated_tag):\n",
    "    \"\"\"\n",
    "    check whether a record is deprecated or not. It returns 1 --> deprecated or 0 --> not deprecated\n",
    "    \"\"\"\n",
    "    \n",
    "    if deprecated_tag == \"false\":\n",
    "        is_deprecated = 0\n",
    "    else:\n",
    "        is_deprecated = 1\n",
    "        \n",
    "    return is_deprecated        \n",
    "        "
   ]
  },
  {
   "cell_type": "code",
   "execution_count": 4,
   "metadata": {},
   "outputs": [],
   "source": [
    "def EU_classification_extractor(child, target_tag):\n",
    "    \"\"\"\n",
    "    extracts the EU classification code. it returns -1 of the extracted information doesn't match the target tag\n",
    "    \"\"\"\n",
    "    \n",
    "    if child.tag == target_tag:\n",
    "        info_extracted = child.text\n",
    "        return info_extracted\n",
    "    else:\n",
    "        return -1\n",
    "        "
   ]
  },
  {
   "cell_type": "code",
   "execution_count": 5,
   "metadata": {},
   "outputs": [],
   "source": [
    "def EU_classification_name_extractor(child, target_tag):\n",
    "    \"\"\"\n",
    "     extracts the EU classification name in english. it returns -1 of the extracted information doesn't match the target tag\n",
    "    \"\"\"\n",
    "    \n",
    "    if child.attrib[\"lg\"] == target_tag:\n",
    "        info_extracted = child.text\n",
    "        return info_extracted\n",
    "    else:\n",
    "        return -1    \n",
    "        "
   ]
  },
  {
   "cell_type": "code",
   "execution_count": 6,
   "metadata": {},
   "outputs": [],
   "source": [
    "def extract_info(root):\n",
    "    \"\"\"\n",
    "    extract the AUTHORITY-CODE and NAME attributed related to each non-dep0recated record. It returns the extractec information as a string of dicts with one dict per record\n",
    "    \"\"\"\n",
    "\n",
    "    record_attrib = {}\n",
    "    EU_bodies_classification = []\n",
    "    EU_bodies_classification_info = {}\n",
    "\n",
    "    for record in root:\n",
    "        record_attrib = record.attrib\n",
    "        is_deprecated = check_deprecated(record_attrib[\"deprecated\"])\n",
    "        if not is_deprecated: # if the record is not deprecated       \n",
    "            for child in record: # records sub-levels\n",
    "                info_extracted = EU_classification_extractor(child, \"authority-code\") # extracts the EU body classification\n",
    "                if  info_extracted != -1:\n",
    "                    EU_bodies_classification_info[\"authority-code\"] = info_extracted\n",
    "                \n",
    "                if child.tag == \"label\": # to extract the name of the classification in english\n",
    "                    for child2 in child:\n",
    "                        info_extracted =  EU_classification_name_extractor(child2, \"eng\") # extracts the EU body classification name in english\n",
    "                        if  info_extracted != -1:\n",
    "                            EU_bodies_classification_info[\"name\"] = info_extracted\n",
    "                            \n",
    "                            EU_bodies_classification.append(EU_bodies_classification_info)\n",
    "                            EU_bodies_classification_info = {} # clean up the variable\n",
    "    \n",
    "    return EU_bodies_classification                    \n",
    "    \n",
    "    "
   ]
  },
  {
   "cell_type": "markdown",
   "metadata": {},
   "source": [
    "## 3. Save the extracted information into a csv file"
   ]
  },
  {
   "cell_type": "code",
   "execution_count": 7,
   "metadata": {},
   "outputs": [],
   "source": [
    "def savetoCSV(EU_bodies_classification, filename): \n",
    "    \"\"\"\n",
    "    save the extracted information into a csv file\n",
    "    \"\"\"\n",
    "  \n",
    "    # specifying the fields for csv file \n",
    "    fields = [\"authority-code\", \"name\"] \n",
    "  \n",
    "    # writing to csv file \n",
    "    with open(filename, 'w') as csvfile: \n",
    "  \n",
    "        # creating a csv dict writer object \n",
    "        writer = csv.DictWriter(csvfile, fieldnames = fields) \n",
    "  \n",
    "        # writing headers (field names) \n",
    "        writer.writeheader() \n",
    "  \n",
    "        # writing data rows \n",
    "        writer.writerows(EU_bodies_classification)\n",
    "    \n",
    "    return"
   ]
  },
  {
   "cell_type": "markdown",
   "metadata": {},
   "source": [
    "## 4. Main"
   ]
  },
  {
   "cell_type": "code",
   "execution_count": 8,
   "metadata": {},
   "outputs": [],
   "source": [
    "def main():\n",
    "    xml_file = \"corporate-body-classification.xml\"\n",
    "    output_filename = \"EU_corporate_body_classification.csv\"\n",
    "\n",
    "    tree, root = open_file(xml_file)\n",
    "    EU_bodies_classification = extract_info(root)\n",
    "    savetoCSV(EU_bodies_classification, output_filename)"
   ]
  },
  {
   "cell_type": "markdown",
   "metadata": {},
   "source": [
    "## 5. Execution"
   ]
  },
  {
   "cell_type": "code",
   "execution_count": 9,
   "metadata": {},
   "outputs": [],
   "source": [
    "if __name__ == \"__main__\": \n",
    "  \n",
    "    # calling main function \n",
    "    main() "
   ]
  },
  {
   "cell_type": "code",
   "execution_count": null,
   "metadata": {},
   "outputs": [],
   "source": []
  }
 ],
 "metadata": {
  "kernelspec": {
   "display_name": "Python 3",
   "language": "python",
   "name": "python3"
  },
  "language_info": {
   "codemirror_mode": {
    "name": "ipython",
    "version": 3
   },
   "file_extension": ".py",
   "mimetype": "text/x-python",
   "name": "python",
   "nbconvert_exporter": "python",
   "pygments_lexer": "ipython3",
   "version": "3.8.3"
  }
 },
 "nbformat": 4,
 "nbformat_minor": 4
}
